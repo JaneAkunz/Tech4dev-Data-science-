{
 "cells": [
  {
   "cell_type": "markdown",
   "id": "30158b19",
   "metadata": {},
   "source": [
    "# What is the output of the following print statements? "
   ]
  },
  {
   "cell_type": "code",
   "execution_count": 68,
   "id": "49dd5b6b",
   "metadata": {},
   "outputs": [
    {
     "name": "stdout",
     "output_type": "stream",
     "text": [
      "\ta\tb\tc\n"
     ]
    }
   ],
   "source": [
    "print(\"\\ta\\tb\\tc\")"
   ]
  },
  {
   "cell_type": "code",
   "execution_count": 2,
   "id": "e130118f",
   "metadata": {},
   "outputs": [
    {
     "name": "stdout",
     "output_type": "stream",
     "text": [
      "\\\\\n"
     ]
    }
   ],
   "source": [
    "print(\"\\\\\\\\\")"
   ]
  },
  {
   "cell_type": "code",
   "execution_count": 3,
   "id": "22cba231",
   "metadata": {},
   "outputs": [
    {
     "name": "stdout",
     "output_type": "stream",
     "text": [
      "'\n"
     ]
    }
   ],
   "source": [
    "print(\"'\") "
   ]
  },
  {
   "cell_type": "code",
   "execution_count": 4,
   "id": "27008252",
   "metadata": {},
   "outputs": [
    {
     "name": "stdout",
     "output_type": "stream",
     "text": [
      "\"\"\"\n"
     ]
    }
   ],
   "source": [
    "print(\"\\\"\\\"\\\"\") "
   ]
  },
  {
   "cell_type": "code",
   "execution_count": 5,
   "id": "9684977d",
   "metadata": {},
   "outputs": [
    {
     "name": "stdout",
     "output_type": "stream",
     "text": [
      "C:\n",
      "in\the downward spiral\n"
     ]
    }
   ],
   "source": [
    "print(\"C:\\nin\\the downward spiral\") "
   ]
  },
  {
   "cell_type": "markdown",
   "id": "78c3b9fe",
   "metadata": {},
   "source": [
    "# Write a print statement to produce this output: \n",
    "\n",
    "/ \\ // \\\\ /// \\\\\\ "
   ]
  },
  {
   "cell_type": "code",
   "execution_count": 24,
   "id": "288d3e9c",
   "metadata": {},
   "outputs": [
    {
     "name": "stdout",
     "output_type": "stream",
     "text": [
      "/ \\ // \\\\ /// \\\\\\\n"
     ]
    }
   ],
   "source": [
    " print(\"/\",\"\\\\\",\"//\",\"\\\\\\\\\",\"///\",\"\\\\\\\\\\\\\")"
   ]
  },
  {
   "cell_type": "markdown",
   "id": "099c41b3",
   "metadata": {},
   "source": [
    "# What print statements will generate this output? This quote is from Irish poet Oscar Wilde: \n",
    "\n",
    "\"Music makes one feel so romantic - at least it always gets on one's nerves – which is the same thing nowadays.\" "
   ]
  },
  {
   "cell_type": "code",
   "execution_count": 34,
   "id": "54c865ce",
   "metadata": {},
   "outputs": [
    {
     "name": "stdout",
     "output_type": "stream",
     "text": [
      "This quote is from irish poet Oscar Wilde:\n"
     ]
    }
   ],
   "source": [
    "print(\"This quote is from irish poet Oscar Wilde:\")"
   ]
  },
  {
   "cell_type": "code",
   "execution_count": 35,
   "id": "5e0de18c",
   "metadata": {},
   "outputs": [
    {
     "name": "stdout",
     "output_type": "stream",
     "text": [
      "\"Music makes one feel so romantic\n"
     ]
    }
   ],
   "source": [
    "print(\"\\\"Music makes one feel so romantic\")"
   ]
  },
  {
   "cell_type": "code",
   "execution_count": 37,
   "id": "793535f2",
   "metadata": {},
   "outputs": [
    {
     "name": "stdout",
     "output_type": "stream",
     "text": [
      "-at least its always gets on one's nerves-\n"
     ]
    }
   ],
   "source": [
    "print(\"-at least its always gets on one's nerves-\")"
   ]
  },
  {
   "cell_type": "code",
   "execution_count": 38,
   "id": "5853bed9",
   "metadata": {},
   "outputs": [
    {
     "name": "stdout",
     "output_type": "stream",
     "text": [
      "which is the same thing nowadays\n"
     ]
    }
   ],
   "source": [
    "print(\"which is the same thing nowadays\")"
   ]
  },
  {
   "cell_type": "markdown",
   "id": "c4b72c75",
   "metadata": {},
   "source": [
    "# What print statements will generate this output? \n",
    "\n",
    "A \"quoted\" String is 'much' better if you learn \n",
    "\n",
    "the rules of \"escape sequences.\" Also, \"\" represents an empty String. Don't forget: use \\\" instead of \" ! '' is not the same as \" \n",
    "\n",
    " "
   ]
  },
  {
   "cell_type": "code",
   "execution_count": 48,
   "id": "e085c2d1",
   "metadata": {},
   "outputs": [
    {
     "name": "stdout",
     "output_type": "stream",
     "text": [
      "A\"quoted\" string is 'much' better if you learn the rules of \"escape sequence.\"Also\"\" represent an empty String. Don't forget: use \\\" insteaad of \"!\"is not the same as\"\n"
     ]
    }
   ],
   "source": [
    "print(\"A\\\"quoted\\\" string is 'much' better if you learn the rules of \\\"escape sequence.\\\"Also\\\"\\\" represent an empty String. Don't forget: use \\\\\\\" insteaad of \\\"!\\\"is not the same as\\\"\")"
   ]
  },
  {
   "cell_type": "markdown",
   "id": "4c3d79cc",
   "metadata": {},
   "source": [
    "# What values result from the following expressions?"
   ]
  },
  {
   "cell_type": "code",
   "execution_count": 51,
   "id": "63878767",
   "metadata": {},
   "outputs": [
    {
     "data": {
      "text/plain": [
       "-1.8"
      ]
     },
     "execution_count": 51,
     "metadata": {},
     "output_type": "execute_result"
    }
   ],
   "source": [
    "-9/5  "
   ]
  },
  {
   "cell_type": "code",
   "execution_count": 52,
   "id": "d28f079c",
   "metadata": {},
   "outputs": [
    {
     "data": {
      "text/plain": [
       "5"
      ]
     },
     "execution_count": 52,
     "metadata": {},
     "output_type": "execute_result"
    }
   ],
   "source": [
    "-695%20"
   ]
  },
  {
   "cell_type": "code",
   "execution_count": 53,
   "id": "70338518",
   "metadata": {},
   "outputs": [
    {
     "data": {
      "text/plain": [
       "23"
      ]
     },
     "execution_count": 53,
     "metadata": {},
     "output_type": "execute_result"
    }
   ],
   "source": [
    "-7+6*5"
   ]
  },
  {
   "cell_type": "code",
   "execution_count": 54,
   "id": "82c0dcc7",
   "metadata": {},
   "outputs": [
    {
     "data": {
      "text/plain": [
       "-37"
      ]
     },
     "execution_count": 54,
     "metadata": {},
     "output_type": "execute_result"
    }
   ],
   "source": [
    "-7*6+5"
   ]
  },
  {
   "cell_type": "code",
   "execution_count": 55,
   "id": "fe5b811f",
   "metadata": {},
   "outputs": [
    {
     "data": {
      "text/plain": [
       "10.4"
      ]
     },
     "execution_count": 55,
     "metadata": {},
     "output_type": "execute_result"
    }
   ],
   "source": [
    "-248%100/5"
   ]
  },
  {
   "cell_type": "code",
   "execution_count": 56,
   "id": "eb3bd2e2",
   "metadata": {},
   "outputs": [
    {
     "data": {
      "text/plain": [
       "-20.25"
      ]
     },
     "execution_count": 56,
     "metadata": {},
     "output_type": "execute_result"
    }
   ],
   "source": [
    "-6*3-9/4"
   ]
  },
  {
   "cell_type": "code",
   "execution_count": 57,
   "id": "91dd88b5",
   "metadata": {},
   "outputs": [
    {
     "data": {
      "text/plain": [
       "8"
      ]
     },
     "execution_count": 57,
     "metadata": {},
     "output_type": "execute_result"
    }
   ],
   "source": [
    "-(5-7)*4"
   ]
  },
  {
   "cell_type": "code",
   "execution_count": 67,
   "id": "85bcc79a",
   "metadata": {},
   "outputs": [
    {
     "data": {
      "text/plain": [
       "-3"
      ]
     },
     "execution_count": 67,
     "metadata": {},
     "output_type": "execute_result"
    }
   ],
   "source": [
    "-6+(18%(17-12))"
   ]
  },
  {
   "cell_type": "code",
   "execution_count": null,
   "id": "63bf576f",
   "metadata": {},
   "outputs": [],
   "source": []
  }
 ],
 "metadata": {
  "kernelspec": {
   "display_name": "Python 3 (ipykernel)",
   "language": "python",
   "name": "python3"
  },
  "language_info": {
   "codemirror_mode": {
    "name": "ipython",
    "version": 3
   },
   "file_extension": ".py",
   "mimetype": "text/x-python",
   "name": "python",
   "nbconvert_exporter": "python",
   "pygments_lexer": "ipython3",
   "version": "3.11.5"
  }
 },
 "nbformat": 4,
 "nbformat_minor": 5
}
