{
 "cells": [
  {
   "cell_type": "markdown",
   "id": "508d9333",
   "metadata": {},
   "source": [
    "#Question 1- Write a program that finds the maximum value of the given list, assuming that the list contains at least one element.Try your program with the following array\n",
    "2 4 7 4 23 5 1 4 8 9\n"
   ]
  },
  {
   "cell_type": "code",
   "execution_count": 13,
   "id": "e23b567f",
   "metadata": {},
   "outputs": [
    {
     "name": "stdout",
     "output_type": "stream",
     "text": [
      "The maximum value is 23\n"
     ]
    }
   ],
   "source": [
    "list = [2, 4, 7, 4, 23, 5, 1, 4, 8, 9]\n",
    "max_value = max(list)\n",
    "print(\"The maximum value is\", max_value)"
   ]
  },
  {
   "cell_type": "markdown",
   "id": "42f789f3",
   "metadata": {},
   "source": [
    "#Question 2- Write a program that calculates the average value of the given list.Try your program with the following list\n",
    "4 7 1 5 11 53 12 46 84 23"
   ]
  },
  {
   "cell_type": "code",
   "execution_count": 12,
   "id": "8c1a0052",
   "metadata": {},
   "outputs": [
    {
     "name": "stdout",
     "output_type": "stream",
     "text": [
      "The Average value is 24.6\n"
     ]
    }
   ],
   "source": [
    "list = [4, 7, 1, 5, 11, 53, 12, 46, 84, 23]\n",
    "average_value = sum(list) / len(list)\n",
    "print(\"The Average value is\", average_value)"
   ]
  },
  {
   "cell_type": "code",
   "execution_count": null,
   "id": "9fe99c64",
   "metadata": {},
   "outputs": [],
   "source": [
    "#Question 3- Write a program that prints the given list of integers in reverse order.Try your program with the following list\n",
    "2 6 7 45 23 53 14 45 89 5"
   ]
  },
  {
   "cell_type": "code",
   "execution_count": 34,
   "id": "02e245d6",
   "metadata": {},
   "outputs": [
    {
     "name": "stdout",
     "output_type": "stream",
     "text": [
      "[5, 89, 45, 14, 53, 23, 45, 7, 6, 2]\n"
     ]
    }
   ],
   "source": [
    "list = [2, 6, 7, 45, 23, 53, 14, 45, 89, 5]\n",
    "print(list[::-1])"
   ]
  },
  {
   "cell_type": "code",
   "execution_count": null,
   "id": "cc565995",
   "metadata": {},
   "outputs": [],
   "source": [
    "#Question 4- Write a program that accepts two lists of integers and prints true if each element in the first list is less than the element at the same index in the second list. \n",
    "Your program should print false if the lists are not the same length."
   ]
  },
  {
   "cell_type": "code",
   "execution_count": null,
   "id": "74d084ca",
   "metadata": {},
   "outputs": [],
   "source": [
    "# Function to check if each element in the first list is less than the corresponding element in the second list\n",
    "def check_lists(list1, list2):\n",
    "    \n",
    "    # Check if the lists are of the same length\n",
    "    if len(list1) != len(list2):\n",
    "        return False\n",
    "\n",
    "    # Compare elements at each index\n",
    "    for i in range(len(list1)):\n",
    "        if list1[i] >= list2[i]:\n",
    "            return False\n",
    "\n",
    "    return True\n",
    "\n",
    "# Accept two lists from the user\n",
    "list1 = list(map(int, input(\"Enter the first list of integers (separated by spaces): \").split()))\n",
    "list2 = list(map(int, input(\"Enter the second list of integers (separated by spaces): \").split()))\n",
    "\n",
    "# Check and print the result\n",
    "result = check_lists(list1, list2)\n",
    "print(\"Result:\", result)"
   ]
  },
  {
   "cell_type": "code",
   "execution_count": null,
   "id": "b128ceff",
   "metadata": {},
   "outputs": [],
   "source": [
    "#Question 5-Write a program that accepts a list of integers and two indexes and swaps the elements at those indexes\n",
    "list = [7, 8, 9, 10, 11, 12]"
   ]
  },
  {
   "cell_type": "code",
   "execution_count": null,
   "id": "ae09a2cc",
   "metadata": {},
   "outputs": [],
   "source": []
  }
 ],
 "metadata": {
  "kernelspec": {
   "display_name": "Python 3 (ipykernel)",
   "language": "python",
   "name": "python3"
  },
  "language_info": {
   "codemirror_mode": {
    "name": "ipython",
    "version": 3
   },
   "file_extension": ".py",
   "mimetype": "text/x-python",
   "name": "python",
   "nbconvert_exporter": "python",
   "pygments_lexer": "ipython3",
   "version": "3.11.5"
  }
 },
 "nbformat": 4,
 "nbformat_minor": 5
}
